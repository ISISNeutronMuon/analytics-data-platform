{
 "cells": [
  {
   "cell_type": "code",
   "execution_count": 28,
   "id": "af3f8833-c459-44cf-8a5b-0d848c1b7254",
   "metadata": {},
   "outputs": [
    {
     "data": {
      "text/plain": [
       "True"
      ]
     },
     "execution_count": 28,
     "metadata": {},
     "output_type": "execute_result"
    }
   ],
   "source": [
    "import os\n",
    "from typing import Mapping, Optional, Sequence\n",
    "\n",
    "from dotenv import load_dotenv\n",
    "import pyspark\n",
    "from pyspark.sql import SparkSession\n",
    "from pyspark.sql.functions import asc, col, explode, split, to_timestamp\n",
    "\n",
    "# Source\n",
    "INCOMING_ROOT = \"s3a://landing-isis/statusdisplay/incoming\"\n",
    "\n",
    "# Destination\n",
    "CATALOG = \"isis\"\n",
    "TARGET_DB = \"cleaned\"\n",
    "SCHEDULE_TABLE = \"running_schedule\"\n",
    "MAINTENANCE_TABLE = \"maintenance_schedule\"\n",
    "\n",
    "load_dotenv()"
   ]
  },
  {
   "cell_type": "code",
   "execution_count": 3,
   "id": "d478b02a-51c3-4cbc-b276-9d706a68f363",
   "metadata": {},
   "outputs": [
    {
     "data": {
      "text/html": [
       "\n",
       "            <div>\n",
       "                <p><b>SparkSession - in-memory</b></p>\n",
       "                \n",
       "        <div>\n",
       "            <p><b>SparkContext</b></p>\n",
       "\n",
       "            <p><a href=\"http://host-192-168-42-43.openstacklocal:4040\">Spark UI</a></p>\n",
       "\n",
       "            <dl>\n",
       "              <dt>Version</dt>\n",
       "                <dd><code>v3.5.2</code></dd>\n",
       "              <dt>Master</dt>\n",
       "                <dd><code>spark://data-accelerator.isis.cclrc.ac.uk:7077</code></dd>\n",
       "              <dt>AppName</dt>\n",
       "                <dd><code>pyspark-shell</code></dd>\n",
       "            </dl>\n",
       "        </div>\n",
       "        \n",
       "            </div>\n",
       "        "
      ],
      "text/plain": [
       "<pyspark.sql.session.SparkSession at 0x7162f35b5bb0>"
      ]
     },
     "execution_count": 3,
     "metadata": {},
     "output_type": "execute_result"
    }
   ],
   "source": [
    "spark = (\n",
    "    SparkSession.builder\n",
    "        .master(\"spark://data-accelerator.isis.cclrc.ac.uk:7077\")\n",
    "        .config(\"spark.hadoop.fs.s3a.access.key\", os.environ[\"S3_ACCESS_KEY\"])\n",
    "        .config(\"spark.hadoop.fs.s3a.secret.key\", os.environ[\"S3_ACCESS_SECRET\"])\n",
    "        .getOrCreate()\n",
    ")\n",
    "spark.active()"
   ]
  },
  {
   "cell_type": "code",
   "execution_count": 4,
   "id": "47334a95-b757-4edb-91b9-e6935e828dd2",
   "metadata": {},
   "outputs": [
    {
     "data": {
      "text/html": [
       "<table border='1'>\n",
       "<tr><th></th></tr>\n",
       "</table>\n"
      ],
      "text/plain": [
       "++\n",
       "||\n",
       "++\n",
       "++"
      ]
     },
     "execution_count": 4,
     "metadata": {},
     "output_type": "execute_result"
    }
   ],
   "source": [
    "spark.sql(f\"CREATE SCHEMA IF NOT EXISTS {CATALOG}.{TARGET_DB}\")\n",
    "spark.sql(f\"USE {CATALOG}.{TARGET_DB}\")"
   ]
  },
  {
   "cell_type": "code",
   "execution_count": 34,
   "id": "b84e9fa8-a478-4342-b150-ffc9ed8a620b",
   "metadata": {},
   "outputs": [
    {
     "data": {
      "text/html": [
       "<table border='1'>\n",
       "<tr><th></th></tr>\n",
       "</table>\n"
      ],
      "text/plain": [
       "++\n",
       "||\n",
       "++\n",
       "++"
      ]
     },
     "execution_count": 34,
     "metadata": {},
     "output_type": "execute_result"
    }
   ],
   "source": [
    "table_ddl = f\"\"\"\n",
    "CREATE TABLE IF NOT EXISTS {SCHEDULE_TABLE} (\n",
    "  cycle_name STRING,\n",
    "  interval_label STRING,\n",
    "  interval_type STRING,\n",
    "  started TIMESTAMP, \n",
    "  ended TIMESTAMP\n",
    ")\n",
    "USING iceberg\n",
    "PARTITIONED BY (year(started))\n",
    "\"\"\"\n",
    "spark.sql(table_ddl)"
   ]
  },
  {
   "cell_type": "code",
   "execution_count": 35,
   "id": "65ea3efc-c9b5-4601-a781-e7b9c8909897",
   "metadata": {},
   "outputs": [
    {
     "name": "stdout",
     "output_type": "stream",
     "text": [
      "CPU times: user 2.11 ms, sys: 2.15 ms, total: 4.26 ms\n",
      "Wall time: 522 ms\n"
     ]
    }
   ],
   "source": [
    "%%time\n",
    "\n",
    "# Load in temporary table\n",
    "loadtype = \"full\"\n",
    "ingest_date = \"2024/11/24\"\n",
    "df = spark.read.json(f\"{INCOMING_ROOT}/running_schedule/{loadtype}/{ingest_date}/*.json\") \\\n",
    "  .withColumn(\"start\", to_timestamp(\"start\")) \\\n",
    "  .withColumn(\"end\", to_timestamp(\"end\"))\n",
    "df.createOrReplaceTempView(\"schedule\")"
   ]
  },
  {
   "cell_type": "code",
   "execution_count": 36,
   "id": "4713cad0-42a9-4f04-9d43-3ba1c5d4079c",
   "metadata": {},
   "outputs": [
    {
     "name": "stdout",
     "output_type": "stream",
     "text": [
      "+----------+--------------+-------------+-------------------+-------------------+\n",
      "|cycle_name|interval_label|interval_type|started            |ended              |\n",
      "+----------+--------------+-------------+-------------------+-------------------+\n",
      "|2019/1    |2019/1        |cycle        |2019-06-04 07:30:00|2019-07-19 07:30:00|\n",
      "|2019/2    |2019/2        |cycle        |2019-09-10 07:30:00|2019-10-25 07:30:00|\n",
      "|2019/3    |2019/3        |cycle        |2019-11-12 08:30:00|2019-12-20 08:30:00|\n",
      "|2019/4    |2019/4        |cycle        |2020-02-11 08:30:00|2020-03-18 12:00:00|\n",
      "|2020/2    |2020/2        |cycle        |2020-09-08 07:30:00|2020-10-23 07:30:00|\n",
      "|2020/3    |2020/3        |cycle        |2020-11-10 08:30:00|2020-12-17 08:30:00|\n",
      "|2021/1    |2021/1        |cycle        |2021-04-27 07:30:00|2021-06-17 07:30:00|\n",
      "|2021/2    |2021/2        |cycle        |2022-03-01 08:30:00|2022-04-08 07:30:00|\n",
      "|2022/1    |2022/1        |cycle        |2022-05-03 07:30:00|2022-06-02 07:30:00|\n",
      "|2022/2    |2022/2        |cycle        |2022-06-28 07:30:00|2022-07-29 07:30:00|\n",
      "|2022/3    |2022/3        |cycle        |2022-09-20 07:30:00|2022-10-14 07:30:00|\n",
      "|2022/4    |2022/4        |cycle        |2022-11-08 08:30:00|2022-12-16 08:30:00|\n",
      "|2022/5    |2022/5        |cycle        |2023-02-07 08:30:00|2023-03-31 07:30:00|\n",
      "|2023/1    |2023/1        |cycle        |2023-04-25 07:30:00|2023-05-26 07:30:00|\n",
      "|2023/2    |2023/2        |cycle        |2023-06-27 07:30:00|2023-08-04 07:30:00|\n",
      "|2023/3    |2023/3        |cycle        |2023-09-19 07:30:00|2023-10-20 07:30:00|\n",
      "|2023/4    |2023/4        |cycle        |2023-11-14 08:30:00|2023-12-19 08:30:00|\n",
      "|2023/5    |2023/5        |cycle        |2024-02-13 08:30:00|2024-03-22 08:30:00|\n",
      "|2024/1    |2024/1        |cycle        |2024-04-23 07:30:00|2024-05-31 07:30:00|\n",
      "|2024/2    |2024/2        |cycle        |2024-07-09 07:30:00|2024-08-09 07:30:00|\n",
      "+----------+--------------+-------------+-------------------+-------------------+\n",
      "only showing top 20 rows\n",
      "\n"
     ]
    }
   ],
   "source": [
    "user_cycle_intervals = df.select(\n",
    "    col(\"label\").alias(\"cycle_name\"),\n",
    "    col(\"label\").alias(\"interval_label\"),\n",
    "    col(\"type\").alias(\"interval_type\"),\n",
    "    to_timestamp(col(\"start\")).alias(\"started\"),\n",
    "    to_timestamp(col(\"end\")).alias(\"ended\")\n",
    ").where(df.type == \"cycle\")\n",
    "user_cycle_intervals.show(truncate=False)"
   ]
  },
  {
   "cell_type": "code",
   "execution_count": 39,
   "id": "cbb5690a-9060-4718-a895-df9ee743fd6f",
   "metadata": {},
   "outputs": [
    {
     "name": "stdout",
     "output_type": "stream",
     "text": [
      "+----------+--------------+-------------+-------------------+-------------------+\n",
      "|cycle_name|interval_label|interval_type|started            |ended              |\n",
      "+----------+--------------+-------------+-------------------+-------------------+\n",
      "|2021/2    |Run-up        |pre-cycle    |2022-02-21 08:30:00|2022-03-01 08:30:00|\n",
      "|2022/1    |Run-up        |pre-cycle    |2022-04-25 07:30:00|2022-05-03 07:30:00|\n",
      "|2022/2    |Run-up        |pre-cycle    |2022-06-20 07:30:00|2022-06-28 07:30:00|\n",
      "|2022/3    |Run-up        |pre-cycle    |2022-09-03 07:30:00|2022-09-20 07:30:00|\n",
      "|2022/4    |Run-up        |pre-cycle    |2022-10-31 08:30:00|2022-11-08 08:30:00|\n",
      "|2022/5    |Run-up        |pre-cycle    |2023-01-27 08:30:00|2023-02-07 08:30:00|\n",
      "|2023/1    |Run-up        |pre-cycle    |2023-04-17 07:30:00|2023-04-25 07:30:00|\n",
      "|2023/2    |Run-up        |pre-cycle    |2023-06-19 07:30:00|2023-06-27 07:30:00|\n",
      "|2023/3    |Run-up        |pre-cycle    |2023-09-04 07:30:00|2023-09-19 07:30:00|\n",
      "|2023/4    |Run-up        |pre-cycle    |2023-11-06 08:30:00|2023-11-14 08:30:00|\n",
      "|2023/5    |Run-up        |pre-cycle    |2024-01-29 08:30:00|2024-02-13 08:30:00|\n",
      "|2024/1    |Run-up        |pre-cycle    |2024-04-15 07:30:00|2024-04-23 07:30:00|\n",
      "|2024/2    |Run-up        |pre-cycle    |2024-06-24 07:30:00|2024-07-09 07:30:00|\n",
      "|2024/3    |Run-up        |pre-cycle    |2024-09-09 07:30:00|2024-09-17 07:30:00|\n",
      "|2024/4    |Run-up        |pre-cycle    |2024-11-11 08:30:00|2024-11-19 08:30:00|\n",
      "|2024/5    |Run-up        |pre-cycle    |2025-02-03 08:30:00|2025-02-18 08:30:00|\n",
      "|2025/1    |Run-up        |pre-cycle    |2025-04-21 07:30:00|2025-04-29 07:30:00|\n",
      "|2025/2    |Run-up        |pre-cycle    |2025-06-23 07:30:00|2025-07-01 07:30:00|\n",
      "|2025/3    |Run-up        |pre-cycle    |2025-09-01 07:30:00|2025-09-09 07:30:00|\n",
      "|2025/4    |Run-up        |pre-cycle    |2025-11-10 08:30:00|2025-11-18 08:30:00|\n",
      "+----------+--------------+-------------+-------------------+-------------------+\n",
      "only showing top 20 rows\n",
      "\n"
     ]
    }
   ],
   "source": [
    "preuser_cycle_intervals  = df.select(\n",
    "    col(\"label\").alias(\"interval_label\"),\n",
    "    to_timestamp(col(\"start\")).alias(\"started\"),\n",
    "    to_timestamp(col(\"end\")).alias(\"ended\"),\n",
    "    col(\"type\").alias(\"interval_type\")\n",
    ").where(df.type == \"pre-cycle\")\n",
    "preuser_cycle_intervals = preuser_cycle_intervals.join(user_cycle_intervals,\n",
    "                             preuser_cycle_intervals.ended == user_cycle_intervals.started\n",
    "                            ).select(user_cycle_intervals.cycle_name,\n",
    "                                     preuser_cycle_intervals.interval_label,\n",
    "                                     preuser_cycle_intervals.interval_type,\n",
    "                                     preuser_cycle_intervals.started,\n",
    "                                     preuser_cycle_intervals.ended)\n",
    "preuser_cycle_intervals.show(truncate=False)"
   ]
  },
  {
   "cell_type": "code",
   "execution_count": 40,
   "id": "4f57f952-55a5-4451-ae01-dde9553c6777",
   "metadata": {},
   "outputs": [
    {
     "name": "stdout",
     "output_type": "stream",
     "text": [
      "+----------+---------------+-------------+-------------------+-------------------+\n",
      "|cycle_name|interval_label |interval_type|started            |ended              |\n",
      "+----------+---------------+-------------+-------------------+-------------------+\n",
      "|2021/2    |Machine physics|post-cycle   |2022-04-08 07:30:00|2022-04-11 07:30:00|\n",
      "|2022/1    |Machine physics|post-cycle   |2022-06-02 07:30:00|2022-06-05 07:30:00|\n",
      "|2022/2    |Machine physics|post-cycle   |2022-07-29 07:30:00|2022-08-01 07:30:00|\n",
      "|2022/3    |Machine physics|post-cycle   |2022-10-14 07:30:00|2022-10-23 07:30:00|\n",
      "|2022/4    |Machine physics|post-cycle   |2022-12-16 08:30:00|2022-12-21 08:30:00|\n",
      "|2022/5    |Machine physics|post-cycle   |2023-03-31 07:30:00|2023-04-03 07:30:00|\n",
      "|2023/1    |Machine physics|post-cycle   |2023-05-26 07:30:00|2023-05-29 07:30:00|\n",
      "|2023/2    |Machine physics|post-cycle   |2023-08-04 07:30:00|2023-08-07 07:30:00|\n",
      "|2023/3    |Machine physics|post-cycle   |2023-10-20 07:30:00|2023-10-23 07:30:00|\n",
      "|2023/4    |Machine physics|post-cycle   |2023-12-19 08:30:00|2023-12-22 08:30:00|\n",
      "|2023/5    |Machine physics|post-cycle   |2024-03-22 08:30:00|2024-03-25 08:30:00|\n",
      "|2024/1    |Machine physics|post-cycle   |2024-05-31 07:30:00|2024-06-03 07:30:00|\n",
      "|2024/2    |Machine physics|post-cycle   |2024-08-09 07:30:00|2024-08-12 07:30:00|\n",
      "|2024/3    |Machine physics|post-cycle   |2024-10-18 07:30:00|2024-10-20 23:30:00|\n",
      "|2024/4    |Machine physics|post-cycle   |2024-12-20 08:30:00|2024-12-23 00:30:00|\n",
      "|2024/5    |Machine physics|post-cycle   |2025-03-28 08:30:00|2025-03-30 23:30:00|\n",
      "|2025/1    |Machine physics|post-cycle   |2025-06-06 07:30:00|2025-06-08 23:30:00|\n",
      "|2025/2    |Machine physics|post-cycle   |2025-08-08 07:30:00|2025-08-10 23:30:00|\n",
      "|2025/3    |Machine physics|post-cycle   |2025-10-17 07:30:00|2025-10-19 23:30:00|\n",
      "|2025/4    |Machine physics|post-cycle   |2025-12-19 08:30:00|2025-12-22 00:30:00|\n",
      "+----------+---------------+-------------+-------------------+-------------------+\n",
      "only showing top 20 rows\n",
      "\n"
     ]
    }
   ],
   "source": [
    "postuser_cycle_intervals  = df.select(\n",
    "    col(\"label\").alias(\"interval_label\"),\n",
    "    to_timestamp(col(\"start\")).alias(\"started\"),\n",
    "    to_timestamp(col(\"end\")).alias(\"ended\"),\n",
    "    col(\"type\").alias(\"interval_type\")\n",
    ").where(df.type == \"post-cycle\")\n",
    "postuser_cycle_intervals = postuser_cycle_intervals.join(user_cycle_intervals,\n",
    "                             user_cycle_intervals.ended == postuser_cycle_intervals.started\n",
    "                            ).select(user_cycle_intervals.cycle_name,\n",
    "                                     postuser_cycle_intervals.interval_label,\n",
    "                                     postuser_cycle_intervals.interval_type,\n",
    "                                     postuser_cycle_intervals.started,\n",
    "                                     postuser_cycle_intervals.ended)\n",
    "postuser_cycle_intervals.show(truncate=False)"
   ]
  },
  {
   "cell_type": "code",
   "execution_count": 42,
   "id": "5bd04c6c-b828-4012-ab2d-0949b0de9a19",
   "metadata": {},
   "outputs": [
    {
     "name": "stdout",
     "output_type": "stream",
     "text": [
      "+----------+---------------+-------------+-------------------+-------------------+\n",
      "|cycle_name|interval_label |interval_type|started            |ended              |\n",
      "+----------+---------------+-------------+-------------------+-------------------+\n",
      "|2019/1    |2019/1         |cycle        |2019-06-04 07:30:00|2019-07-19 07:30:00|\n",
      "|2019/2    |2019/2         |cycle        |2019-09-10 07:30:00|2019-10-25 07:30:00|\n",
      "|2019/3    |2019/3         |cycle        |2019-11-12 08:30:00|2019-12-20 08:30:00|\n",
      "|2019/4    |2019/4         |cycle        |2020-02-11 08:30:00|2020-03-18 12:00:00|\n",
      "|2020/2    |2020/2         |cycle        |2020-09-08 07:30:00|2020-10-23 07:30:00|\n",
      "|2020/3    |2020/3         |cycle        |2020-11-10 08:30:00|2020-12-17 08:30:00|\n",
      "|2021/1    |2021/1         |cycle        |2021-04-27 07:30:00|2021-06-17 07:30:00|\n",
      "|2021/2    |Run-up         |pre-cycle    |2022-02-21 08:30:00|2022-03-01 08:30:00|\n",
      "|2021/2    |2021/2         |cycle        |2022-03-01 08:30:00|2022-04-08 07:30:00|\n",
      "|2021/2    |Machine physics|post-cycle   |2022-04-08 07:30:00|2022-04-11 07:30:00|\n",
      "|2022/1    |Run-up         |pre-cycle    |2022-04-25 07:30:00|2022-05-03 07:30:00|\n",
      "|2022/1    |2022/1         |cycle        |2022-05-03 07:30:00|2022-06-02 07:30:00|\n",
      "|2022/1    |Machine physics|post-cycle   |2022-06-02 07:30:00|2022-06-05 07:30:00|\n",
      "|2022/2    |Run-up         |pre-cycle    |2022-06-20 07:30:00|2022-06-28 07:30:00|\n",
      "|2022/2    |2022/2         |cycle        |2022-06-28 07:30:00|2022-07-29 07:30:00|\n",
      "|2022/2    |Machine physics|post-cycle   |2022-07-29 07:30:00|2022-08-01 07:30:00|\n",
      "|2022/3    |Run-up         |pre-cycle    |2022-09-03 07:30:00|2022-09-20 07:30:00|\n",
      "|2022/3    |2022/3         |cycle        |2022-09-20 07:30:00|2022-10-14 07:30:00|\n",
      "|2022/3    |Machine physics|post-cycle   |2022-10-14 07:30:00|2022-10-23 07:30:00|\n",
      "|2022/4    |Run-up         |pre-cycle    |2022-10-31 08:30:00|2022-11-08 08:30:00|\n",
      "|2022/4    |2022/4         |cycle        |2022-11-08 08:30:00|2022-12-16 08:30:00|\n",
      "|2022/4    |Machine physics|post-cycle   |2022-12-16 08:30:00|2022-12-21 08:30:00|\n",
      "|2022/5    |Run-up         |pre-cycle    |2023-01-27 08:30:00|2023-02-07 08:30:00|\n",
      "|2022/5    |2022/5         |cycle        |2023-02-07 08:30:00|2023-03-31 07:30:00|\n",
      "|2022/5    |Machine physics|post-cycle   |2023-03-31 07:30:00|2023-04-03 07:30:00|\n",
      "|2023/1    |Run-up         |pre-cycle    |2023-04-17 07:30:00|2023-04-25 07:30:00|\n",
      "|2023/1    |2023/1         |cycle        |2023-04-25 07:30:00|2023-05-26 07:30:00|\n",
      "|2023/1    |Machine physics|post-cycle   |2023-05-26 07:30:00|2023-05-29 07:30:00|\n",
      "|2023/2    |Run-up         |pre-cycle    |2023-06-19 07:30:00|2023-06-27 07:30:00|\n",
      "|2023/2    |2023/2         |cycle        |2023-06-27 07:30:00|2023-08-04 07:30:00|\n",
      "|2023/2    |Machine physics|post-cycle   |2023-08-04 07:30:00|2023-08-07 07:30:00|\n",
      "|2023/3    |Run-up         |pre-cycle    |2023-09-04 07:30:00|2023-09-19 07:30:00|\n",
      "|2023/3    |2023/3         |cycle        |2023-09-19 07:30:00|2023-10-20 07:30:00|\n",
      "|2023/3    |Machine physics|post-cycle   |2023-10-20 07:30:00|2023-10-23 07:30:00|\n",
      "|2023/4    |Run-up         |pre-cycle    |2023-11-06 08:30:00|2023-11-14 08:30:00|\n",
      "|2023/4    |2023/4         |cycle        |2023-11-14 08:30:00|2023-12-19 08:30:00|\n",
      "|2023/4    |Machine physics|post-cycle   |2023-12-19 08:30:00|2023-12-22 08:30:00|\n",
      "|2023/5    |Run-up         |pre-cycle    |2024-01-29 08:30:00|2024-02-13 08:30:00|\n",
      "|2023/5    |2023/5         |cycle        |2024-02-13 08:30:00|2024-03-22 08:30:00|\n",
      "|2023/5    |Machine physics|post-cycle   |2024-03-22 08:30:00|2024-03-25 08:30:00|\n",
      "|2024/1    |Run-up         |pre-cycle    |2024-04-15 07:30:00|2024-04-23 07:30:00|\n",
      "|2024/1    |2024/1         |cycle        |2024-04-23 07:30:00|2024-05-31 07:30:00|\n",
      "|2024/1    |Machine physics|post-cycle   |2024-05-31 07:30:00|2024-06-03 07:30:00|\n",
      "|2024/2    |Run-up         |pre-cycle    |2024-06-24 07:30:00|2024-07-09 07:30:00|\n",
      "|2024/2    |2024/2         |cycle        |2024-07-09 07:30:00|2024-08-09 07:30:00|\n",
      "|2024/2    |Machine physics|post-cycle   |2024-08-09 07:30:00|2024-08-12 07:30:00|\n",
      "|2024/3    |Run-up         |pre-cycle    |2024-09-09 07:30:00|2024-09-17 07:30:00|\n",
      "|2024/3    |2024/3         |cycle        |2024-09-17 07:30:00|2024-10-18 07:30:00|\n",
      "|2024/3    |Machine physics|post-cycle   |2024-10-18 07:30:00|2024-10-20 23:30:00|\n",
      "|2024/4    |Run-up         |pre-cycle    |2024-11-11 08:30:00|2024-11-19 08:30:00|\n",
      "|2024/4    |2024/4         |cycle        |2024-11-19 08:30:00|2024-12-20 08:30:00|\n",
      "|2024/4    |Machine physics|post-cycle   |2024-12-20 08:30:00|2024-12-23 00:30:00|\n",
      "|2024/5    |Run-up         |pre-cycle    |2025-02-03 08:30:00|2025-02-18 08:30:00|\n",
      "|2024/5    |2024/5         |cycle        |2025-02-18 08:30:00|2025-03-28 08:30:00|\n",
      "|2024/5    |Machine physics|post-cycle   |2025-03-28 08:30:00|2025-03-30 23:30:00|\n",
      "|2025/1    |Run-up         |pre-cycle    |2025-04-21 07:30:00|2025-04-29 07:30:00|\n",
      "|2025/1    |2025/1         |cycle        |2025-04-29 07:30:00|2025-06-06 07:30:00|\n",
      "|2025/1    |Machine physics|post-cycle   |2025-06-06 07:30:00|2025-06-08 23:30:00|\n",
      "|2025/2    |Run-up         |pre-cycle    |2025-06-23 07:30:00|2025-07-01 07:30:00|\n",
      "|2025/2    |2025/2         |cycle        |2025-07-01 07:30:00|2025-08-08 07:30:00|\n",
      "|2025/2    |Machine physics|post-cycle   |2025-08-08 07:30:00|2025-08-10 23:30:00|\n",
      "|2025/3    |Run-up         |pre-cycle    |2025-09-01 07:30:00|2025-09-09 07:30:00|\n",
      "|2025/3    |2025/3         |cycle        |2025-09-09 07:30:00|2025-10-17 07:30:00|\n",
      "|2025/3    |Machine physics|post-cycle   |2025-10-17 07:30:00|2025-10-19 23:30:00|\n",
      "|2025/4    |Run-up         |pre-cycle    |2025-11-10 08:30:00|2025-11-18 08:30:00|\n",
      "|2025/4    |2025/4         |cycle        |2025-11-18 08:30:00|2025-12-19 08:30:00|\n",
      "|2025/4    |Machine physics|post-cycle   |2025-12-19 08:30:00|2025-12-22 00:30:00|\n",
      "|2026/5    |Run-up         |pre-cycle    |2026-02-09 08:30:00|2026-02-24 08:30:00|\n",
      "|2026/5    |2026/5         |cycle        |2026-02-24 08:30:00|2026-03-27 08:30:00|\n",
      "|2026/5    |Machine physics|post-cycle   |2026-03-27 08:30:00|2026-03-29 23:30:00|\n",
      "+----------+---------------+-------------+-------------------+-------------------+\n",
      "\n"
     ]
    }
   ],
   "source": [
    "running_schedule_df = user_cycle_intervals.union(preuser_cycle_intervals).union(postuser_cycle_intervals).orderBy(asc(\"started\"))\n",
    "running_schedule_df.show(n=100,truncate=False)\n",
    "running_schedule_df.write.insertInto(SCHEDULE_TABLE)"
   ]
  },
  {
   "cell_type": "code",
   "execution_count": null,
   "id": "a095777a-db97-4753-8454-e740c8abe530",
   "metadata": {},
   "outputs": [],
   "source": [
    "table_ddl = f\"\"\"\n",
    "CREATE TABLE IF NOT EXISTS {MAINTENANCE_TABLE} (\n",
    "  label STRING,\n",
    "  started TIMESTAMP, \n",
    "  ended TIMESTAMP\n",
    ")\n",
    "USING iceberg\n",
    "PARTITIONED BY (year(started))\n",
    "\"\"\"\n",
    "spark.sql(table_ddl)"
   ]
  },
  {
   "cell_type": "code",
   "execution_count": null,
   "id": "bb1b3836-d1b8-442f-ae59-be8249a83c02",
   "metadata": {},
   "outputs": [],
   "source": [
    "maintenance_df = \\\n",
    "  df.withColumn(\"tmp\", explode(\"maintenanceDays\")) \\\n",
    "    .withColumn(\"started\", to_timestamp(split(col(\"tmp\"), '/')[0])) \\\n",
    "    .withColumn(\"ended\", to_timestamp(split(col(\"tmp\"), '/')[1])) \\\n",
    "    .select(\"label\", \"started\", \"ended\")\n",
    "maintenance_df.show(truncate=False)"
   ]
  },
  {
   "cell_type": "code",
   "execution_count": null,
   "id": "8179e69d-a6f5-4b12-9b44-80627369e11e",
   "metadata": {},
   "outputs": [],
   "source": [
    "maintenance_df.write.insertInto(MAINTENANCE_TABLE)"
   ]
  },
  {
   "cell_type": "code",
   "execution_count": null,
   "id": "3284d01a-a5dd-4d70-adc9-0edb5bd2ca54",
   "metadata": {},
   "outputs": [],
   "source": []
  }
 ],
 "metadata": {
  "kernelspec": {
   "display_name": "Python 3 (ipykernel)",
   "language": "python",
   "name": "python3"
  },
  "language_info": {
   "codemirror_mode": {
    "name": "ipython",
    "version": 3
   },
   "file_extension": ".py",
   "mimetype": "text/x-python",
   "name": "python",
   "nbconvert_exporter": "python",
   "pygments_lexer": "ipython3",
   "version": "3.12.6"
  }
 },
 "nbformat": 4,
 "nbformat_minor": 5
}
