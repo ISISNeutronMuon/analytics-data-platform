{
 "cells": [
  {
   "cell_type": "code",
   "execution_count": null,
   "id": "83f4f3d7-4c5f-4c62-8ed0-b95a48c1fad0",
   "metadata": {},
   "outputs": [],
   "source": [
    "import datetime as dt\n",
    "import functools\n",
    "from pathlib import Path\n",
    "import time\n",
    "\n",
    "from pyspark.sql import DataFrame, SparkSession\n",
    "from pyspark.sql.functions import col, lit, udf\n",
    "from pyspark.sql.types import DateType, DoubleType, StructField, StructType, StringType, TimestampType\n",
    "\n",
    "STAGING_DIR = Path('/staging/facility_info')\n",
    "WAREHOUSE_ROOT = 's3:/'\n",
    "CATALOG = 'warehouse'\n",
    "NAMESPACE = 'bronze'\n",
    "CYCLE_TABLE = 'cycle'\n",
    "CYCLE_TABLE_FQN = f\"{CATALOG}.{NAMESPACE}.{CYCLE_TABLE}\"\n",
    "CYCLE_START_TIME_DEFAULT = \"08:30:00\"\n",
    "\n",
    "spark = SparkSession.builder.remote(os.environ[\"SPARK_REMOTE\"]).getOrCreate()"
   ]
  },
  {
   "cell_type": "code",
   "execution_count": null,
   "id": "b8a1d523-3223-4315-a551-c463568ebb72",
   "metadata": {},
   "outputs": [],
   "source": [
    "def read_cycle(filepath: Path) -> DataFrame:\n",
    "    df = spark.read.csv(\n",
    "      path=str(filepath),\n",
    "      header=True,\n",
    "      inferSchema=False,\n",
    "      enforceSchema=False,\n",
    "    )\n",
    "    to_ts = udf(lambda x: dt.datetime.strptime(f\"{x} {CYCLE_START_TIME_DEFAULT}\", \"%d/%m/%Y %H:%M:%S\"), TimestampType())\n",
    "    df = df \\\n",
    "      .withColumnsRenamed({\"cycle\": \"name\", \"start_date\": \"started\", \"end_date\": \"ended\"}) \\\n",
    "      .withColumn(\"started\", to_ts(col(\"started\"))) \\\n",
    "      .withColumn(\"ended\", to_ts(col(\"ended\")))\n",
    "    return df\n"
   ]
  },
  {
   "cell_type": "code",
   "execution_count": null,
   "id": "a8c7b0cd-1e13-4f44-aa8e-82421f2d1348",
   "metadata": {},
   "outputs": [],
   "source": [
    "%%time\n",
    "\n",
    "%sql DROP TABLE IF EXISTS {CYCLE_TABLE_FQN} PURGE"
   ]
  },
  {
   "cell_type": "code",
   "execution_count": null,
   "id": "1217fc00-bcb9-4a22-bb1d-90b08a74befc",
   "metadata": {},
   "outputs": [],
   "source": [
    "%sql CREATE SCHEMA IF NOT EXISTS {CATALOG}.{NAMESPACE} LOCATION '{WAREHOUSE_ROOT}/{CATALOG}/{NAMESPACE}'"
   ]
  },
  {
   "cell_type": "code",
   "execution_count": null,
   "id": "259e3bf0-217c-4b6d-bbbd-f1810c3228df",
   "metadata": {},
   "outputs": [],
   "source": [
    "%sql CREATE TABLE IF NOT EXISTS {CYCLE_TABLE_FQN} (\\\n",
    "    name STRING,\\\n",
    "    started TIMESTAMP,\\\n",
    "    ended TIMESTAMP\\\n",
    ")\\\n",
    "PARTITIONED BY (name)\n",
    "%sql DESCRIBE EXTENDED {CYCLE_TABLE_FQN}"
   ]
  },
  {
   "cell_type": "code",
   "execution_count": null,
   "id": "91434360-a14a-404b-8309-8f507846763c",
   "metadata": {},
   "outputs": [],
   "source": [
    "%%time\n",
    "\n",
    "cycles = Path(f\"{STAGING_DIR}/Cycles.csv\")\n",
    "df = read_cycle(cycles)\n",
    "df.printSchema()\n",
    "df.show()\n",
    "df.write.saveAsTable(f\"{CYCLE_TABLE_FQN}\", mode=\"append\")\n",
    "\n",
    "print()\n",
    "print(f\"Read cycle metadata into '{CYCLE_TABLE_FQN}' table.\")\n",
    "print()\n"
   ]
  }
 ],
 "metadata": {
  "kernelspec": {
   "display_name": "Python 3 (ipykernel)",
   "language": "python",
   "name": "python3"
  },
  "language_info": {
   "codemirror_mode": {
    "name": "ipython",
    "version": 3
   },
   "file_extension": ".py",
   "mimetype": "text/x-python",
   "name": "python",
   "nbconvert_exporter": "python",
   "pygments_lexer": "ipython3",
   "version": "3.12.4"
  }
 },
 "nbformat": 4,
 "nbformat_minor": 5
}
